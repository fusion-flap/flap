{
 "cells": [
  {
   "cell_type": "markdown",
   "id": "1a9b1d6f",
   "metadata": {},
   "source": [
    "(example_using_data_sources)="
   ]
  },
  {
   "cell_type": "markdown",
   "metadata": {},
   "source": [
    "# Using data source modules"
   ]
  },
  {
   "cell_type": "markdown",
   "metadata": {},
   "source": [
    "In the example below we will use module name `testdata` and data source name 'TESTDATA'.[^download]\n",
    "\n",
    "[^download]: This notebook can be downloaded as **{download}`using_data_sources.ipynb`**"
   ]
  },
  {
   "cell_type": "markdown",
   "metadata": {},
   "source": [
    "To make use of a data source module it should be first imported in the user program as any other module."
   ]
  },
  {
   "cell_type": "code",
   "execution_count": 2,
   "metadata": {},
   "outputs": [
    {
     "name": "stdout",
     "output_type": "stream",
     "text": [
      "Warning: could not read configuration file 'flap_defaults.cfg'.\n",
      "Default location of configuration file is working directory.\n",
      "INIT flap storage\n"
     ]
    }
   ],
   "source": [
    "import flap.testdata"
   ]
  },
  {
   "cell_type": "markdown",
   "metadata": {},
   "source": [
    "To make use of a data source module it should be first imported in the user program as any other module. The data read and coordinate add functions are integrated into FLAP by calling the `register` function of the data source. "
   ]
  },
  {
   "cell_type": "code",
   "execution_count": 3,
   "metadata": {},
   "outputs": [],
   "source": [
    "flap.testdata.register()"
   ]
  },
  {
   "cell_type": "markdown",
   "metadata": {},
   "source": [
    "The [flap.list_data_sources](#flap.data_object.list_data_sources) function lists all actually registered data sources:"
   ]
  },
  {
   "cell_type": "code",
   "execution_count": 4,
   "metadata": {},
   "outputs": [
    {
     "name": "stdout",
     "output_type": "stream",
     "text": [
      "['TESTDATA']\n"
     ]
    }
   ],
   "source": [
    "print(flap.list_data_sources())"
   ]
  },
  {
   "cell_type": "markdown",
   "metadata": {},
   "source": [
    "The [flap.get_data()](#flap.data_object.get_data) function is the general data read\n",
    "interface in FLAP. In this example it reads from the 'TESTDATA' data source. The\n",
    "data named 'TEST-1-1', 'TEST-1-5', \\..., 'TEST-1-8' are read.\n",
    "\n",
    "The resulting data object will be stored in FLAP storage under name\n",
    "'TESTDATA_SIGNALS' and also returned by the function.\n",
    "\n",
    "In the `options` it is requested to scale the data to Volts."
   ]
  },
  {
   "cell_type": "code",
   "execution_count": 5,
   "metadata": {},
   "outputs": [],
   "source": [
    "d=flap.get_data('TESTDATA',\n",
    "                name=['TEST-1-1','TEST-1-[5-8]'],\n",
    "                options={'Scaling':'Volt'},\\\n",
    "                object_name='TESTDATA_SIGNALS')"
   ]
  },
  {
   "cell_type": "markdown",
   "metadata": {},
   "source": [
    "View the data object now in `flap_storage`:"
   ]
  },
  {
   "cell_type": "code",
   "execution_count": 10,
   "metadata": {},
   "outputs": [
    {
     "name": "stdout",
     "output_type": "stream",
     "text": [
      "\n",
      "-----------------------------\n",
      "TESTDATA_SIGNALS(data_source:\"TESTDATA\" exp_id:\"\") data_title:\"Test data\" shape:[5,100001][no error]\n",
      "  Data name:\"Signal\", unit:\"Volt\"\n",
      "  Coords:\n",
      "Time [Second](Dims:1) [<Equ.><R. symm.>] Start:  0.000E+00, Steps:  1.000E-06\n",
      "Sample [a.u.](Dims:1) [<Equ.><R. symm.>] Start:  0.000E+00, Steps:  1.000E+00\n",
      "Signal name [a.u.](Dims:0), Shape:[5]) [<R. symm.>] Val:TEST-1-1, TEST-1-5, TEST-1-6, TEST-1-7, TEST-1-8\n",
      "Column [a.u.](Dims:0), Shape:[5]) [<R. symm.>] Val:1, 1, 1, 1, 1\n",
      "Row [a.u.](Dims:0), Shape:[5]) [<R. symm.>] Val:1, 5, 6, 7, 8\n"
     ]
    }
   ],
   "source": [
    "_ = flap.list_data_objects()"
   ]
  }
 ],
 "metadata": {
  "kernelspec": {
   "display_name": "flap_python312",
   "language": "python",
   "name": "python3"
  },
  "language_info": {
   "codemirror_mode": {
    "name": "ipython",
    "version": 3
   },
   "file_extension": ".py",
   "mimetype": "text/x-python",
   "name": "python",
   "nbconvert_exporter": "python",
   "pygments_lexer": "ipython3",
   "version": "3.12.7"
  }
 },
 "nbformat": 4,
 "nbformat_minor": 2
}
